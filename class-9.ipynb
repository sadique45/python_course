{
 "cells": [
  {
   "cell_type": "code",
   "execution_count": 1,
   "id": "6d978523",
   "metadata": {},
   "outputs": [
    {
     "ename": "ZeroDivisionError",
     "evalue": "division by zero",
     "output_type": "error",
     "traceback": [
      "\u001b[1;31m---------------------------------------------------------------------------\u001b[0m",
      "\u001b[1;31mZeroDivisionError\u001b[0m                         Traceback (most recent call last)",
      "Cell \u001b[1;32mIn[1], line 3\u001b[0m\n\u001b[0;32m      1\u001b[0m a\u001b[38;5;241m=\u001b[39m\u001b[38;5;241m4\u001b[39m\n\u001b[0;32m      2\u001b[0m b\u001b[38;5;241m=\u001b[39m\u001b[38;5;241m0\u001b[39m\n\u001b[1;32m----> 3\u001b[0m \u001b[38;5;28mprint\u001b[39m(\u001b[43ma\u001b[49m\u001b[38;5;241;43m/\u001b[39;49m\u001b[43mb\u001b[49m)\n",
      "\u001b[1;31mZeroDivisionError\u001b[0m: division by zero"
     ]
    }
   ],
   "source": [
    "#exception handling\n",
    "a=4\n",
    "b=0\n",
    "print(a/b)"
   ]
  },
  {
   "cell_type": "code",
   "execution_count": 2,
   "id": "0fffc433",
   "metadata": {},
   "outputs": [
    {
     "name": "stdout",
     "output_type": "stream",
     "text": [
      "enter a numabc\n"
     ]
    },
    {
     "ename": "ValueError",
     "evalue": "invalid literal for int() with base 10: 'abc'",
     "output_type": "error",
     "traceback": [
      "\u001b[1;31m---------------------------------------------------------------------------\u001b[0m",
      "\u001b[1;31mValueError\u001b[0m                                Traceback (most recent call last)",
      "Cell \u001b[1;32mIn[2], line 1\u001b[0m\n\u001b[1;32m----> 1\u001b[0m num\u001b[38;5;241m=\u001b[39m\u001b[38;5;28;43mint\u001b[39;49m\u001b[43m(\u001b[49m\u001b[38;5;28;43minput\u001b[39;49m\u001b[43m(\u001b[49m\u001b[38;5;124;43m\"\u001b[39;49m\u001b[38;5;124;43menter a num\u001b[39;49m\u001b[38;5;124;43m\"\u001b[39;49m\u001b[43m)\u001b[49m\u001b[43m)\u001b[49m\n\u001b[0;32m      2\u001b[0m \u001b[38;5;28mprint\u001b[39m(\u001b[38;5;124m\"\u001b[39m\u001b[38;5;124menter num\u001b[39m\u001b[38;5;124m\"\u001b[39m,num)\n",
      "\u001b[1;31mValueError\u001b[0m: invalid literal for int() with base 10: 'abc'"
     ]
    }
   ],
   "source": [
    "num=int(input(\"enter a num\"))\n",
    "print(\"enter num\",num)"
   ]
  },
  {
   "cell_type": "code",
   "execution_count": 4,
   "id": "12a5b955",
   "metadata": {},
   "outputs": [
    {
     "name": "stdout",
     "output_type": "stream",
     "text": [
      "enter a numanc\n",
      "Error , please enter valid num\n"
     ]
    }
   ],
   "source": [
    "try:\n",
    "    num=int(input(\"enter a num\"))\n",
    "    print(\"enter num\",num)\n",
    "except ValueError:\n",
    "    print(\"Error , please enter valid num\")\n",
    "    "
   ]
  },
  {
   "cell_type": "code",
   "execution_count": 5,
   "id": "e96be554",
   "metadata": {},
   "outputs": [
    {
     "name": "stdout",
     "output_type": "stream",
     "text": [
      "enter a num12\n",
      "enter num 12\n"
     ]
    }
   ],
   "source": [
    "try:\n",
    "    num=int(input(\"enter a num\"))\n",
    "    print(\"enter num\",num)\n",
    "except ValueError:\n",
    "    print(\"Error , please enter valid num\")\n",
    "    "
   ]
  },
  {
   "cell_type": "code",
   "execution_count": 7,
   "id": "063fffb0",
   "metadata": {},
   "outputs": [
    {
     "name": "stdout",
     "output_type": "stream",
     "text": [
      "enter a num3\n",
      "enter a num8\n",
      "result 0.375\n"
     ]
    }
   ],
   "source": [
    "try:\n",
    "    a=int(input(\"enter a num\"))\n",
    "    b=int(input(\"enter a num\"))\n",
    "    r=a/b\n",
    "    print(\"result\", r)\n",
    "except ZeroDivisionError:\n",
    "    print(\"cannot divide by zero\")\n",
    "except ValueError:\n",
    "    print(\"enter valid nuumber\")"
   ]
  },
  {
   "cell_type": "code",
   "execution_count": 8,
   "id": "58e3e8ce",
   "metadata": {},
   "outputs": [
    {
     "name": "stdout",
     "output_type": "stream",
     "text": [
      "enter a num4\n",
      "enter a num0\n",
      "cannot divide by zero\n"
     ]
    }
   ],
   "source": [
    "try:\n",
    "    a=int(input(\"enter a num\"))\n",
    "    b=int(input(\"enter a num\"))\n",
    "    r=a/b\n",
    "    print(\"result\", r)\n",
    "except ZeroDivisionError:\n",
    "    print(\"cannot divide by zero\")\n",
    "except ValueError:\n",
    "    print(\"enter valid nuumber\")\n",
    "    "
   ]
  },
  {
   "cell_type": "code",
   "execution_count": 9,
   "id": "29a013dc",
   "metadata": {},
   "outputs": [
    {
     "name": "stdout",
     "output_type": "stream",
     "text": [
      "enter a num4\n",
      "enter a numabc\n",
      "enter valid nuumber\n"
     ]
    }
   ],
   "source": [
    "try:\n",
    "    a=int(input(\"enter a num\"))\n",
    "    b=int(input(\"enter a num\"))\n",
    "    r=a/b\n",
    "    print(\"result\", r)\n",
    "except ZeroDivisionError:\n",
    "    print(\"cannot divide by zero\")\n",
    "except ValueError:\n",
    "    print(\"enter valid nuumber\")\n",
    "    "
   ]
  },
  {
   "cell_type": "code",
   "execution_count": 10,
   "id": "0b4d0397",
   "metadata": {},
   "outputs": [
    {
     "name": "stdout",
     "output_type": "stream",
     "text": [
      "enter a num3\n",
      "entered num 3\n"
     ]
    }
   ],
   "source": [
    "try:\n",
    "    a=int(input(\"enter a num\"))\n",
    "except ValueError:\n",
    "    print(\"enter valid nuumber\")\n",
    "else:\n",
    "    print(\"entered num\",a)"
   ]
  },
  {
   "cell_type": "code",
   "execution_count": 11,
   "id": "0fc6de02",
   "metadata": {},
   "outputs": [
    {
     "name": "stdout",
     "output_type": "stream",
     "text": [
      "enter a numabc\n",
      "enter valid nuumber\n"
     ]
    }
   ],
   "source": [
    "try:\n",
    "    a=int(input(\"enter a num\"))\n",
    "except ValueError:\n",
    "    print(\"enter valid nuumber\")\n",
    "else:\n",
    "    print(\"entered num\",a)"
   ]
  },
  {
   "cell_type": "code",
   "execution_count": 12,
   "id": "df605481",
   "metadata": {},
   "outputs": [
    {
     "name": "stdout",
     "output_type": "stream",
     "text": [
      "file not founbt\n",
      "execution finish\n"
     ]
    }
   ],
   "source": [
    "try:\n",
    "    file=open(\"data.txt\",\"r\")\n",
    "    content=file.read()\n",
    "except FileNotFoundError:\n",
    "    print(\"file not founbt\")\n",
    "finally:\n",
    "    print(\"execution finish\")"
   ]
  },
  {
   "cell_type": "code",
   "execution_count": 13,
   "id": "af9e2967",
   "metadata": {},
   "outputs": [
    {
     "name": "stdout",
     "output_type": "stream",
     "text": [
      "age must be atleast 18\n"
     ]
    }
   ],
   "source": [
    "def age_check(age):\n",
    "    if age<18:\n",
    "        raise ValueError(\"age must be atleast 18\")\n",
    "    else:\n",
    "        print(\"access granted\")\n",
    "        \n",
    "try:\n",
    "    age_check(14)\n",
    "except ValueError as e:\n",
    "    print(e)"
   ]
  },
  {
   "cell_type": "code",
   "execution_count": 14,
   "id": "7245b0c3",
   "metadata": {},
   "outputs": [
    {
     "name": "stdout",
     "output_type": "stream",
     "text": [
      "access granted\n"
     ]
    }
   ],
   "source": [
    "def age_check(age):\n",
    "    if age<18:\n",
    "        raise ValueError(\"age must be atleast 18\")\n",
    "    else:\n",
    "        print(\"access granted\")\n",
    "        \n",
    "try:\n",
    "    age_check(23)\n",
    "except ValueError as e:\n",
    "    print(e)"
   ]
  },
  {
   "cell_type": "code",
   "execution_count": 15,
   "id": "17a860a5",
   "metadata": {},
   "outputs": [
    {
     "name": "stdout",
     "output_type": "stream",
     "text": [
      "number must be positve\n"
     ]
    }
   ],
   "source": [
    "def check(n):\n",
    "    if n<0:\n",
    "        raise ValueError(\"number must be positve\")\n",
    "    else:\n",
    "        print(\"number= \",n)\n",
    "        \n",
    "try:\n",
    "    check(-5)\n",
    "except ValueError as e:\n",
    "    print(e)"
   ]
  },
  {
   "cell_type": "code",
   "execution_count": 16,
   "id": "a9ad8f9f",
   "metadata": {},
   "outputs": [
    {
     "name": "stdout",
     "output_type": "stream",
     "text": [
      "number=  23\n"
     ]
    }
   ],
   "source": [
    "def check(n):\n",
    "    if n<0:\n",
    "        raise ValueError(\"number must be positve\")\n",
    "    else:\n",
    "        print(\"number= \",n)\n",
    "        \n",
    "try:\n",
    "    check(23)\n",
    "except ValueError as e:\n",
    "    print(e)"
   ]
  },
  {
   "cell_type": "code",
   "execution_count": 17,
   "id": "ed2dedbd",
   "metadata": {},
   "outputs": [
    {
     "name": "stdout",
     "output_type": "stream",
     "text": [
      "2.5\n"
     ]
    }
   ],
   "source": [
    "def divide(a,b):\n",
    "    assert b!=0\n",
    "    return a/b\n",
    "\n",
    "print(divide(10,4))"
   ]
  },
  {
   "cell_type": "code",
   "execution_count": 18,
   "id": "55d5d7a7",
   "metadata": {},
   "outputs": [
    {
     "ename": "AssertionError",
     "evalue": "",
     "output_type": "error",
     "traceback": [
      "\u001b[1;31m---------------------------------------------------------------------------\u001b[0m",
      "\u001b[1;31mAssertionError\u001b[0m                            Traceback (most recent call last)",
      "Cell \u001b[1;32mIn[18], line 5\u001b[0m\n\u001b[0;32m      2\u001b[0m     \u001b[38;5;28;01massert\u001b[39;00m b\u001b[38;5;241m!=\u001b[39m\u001b[38;5;241m0\u001b[39m\n\u001b[0;32m      3\u001b[0m     \u001b[38;5;28;01mreturn\u001b[39;00m a\u001b[38;5;241m/\u001b[39mb\n\u001b[1;32m----> 5\u001b[0m \u001b[38;5;28mprint\u001b[39m(\u001b[43mdivide\u001b[49m\u001b[43m(\u001b[49m\u001b[38;5;241;43m10\u001b[39;49m\u001b[43m,\u001b[49m\u001b[38;5;241;43m0\u001b[39;49m\u001b[43m)\u001b[49m)\n",
      "Cell \u001b[1;32mIn[18], line 2\u001b[0m, in \u001b[0;36mdivide\u001b[1;34m(a, b)\u001b[0m\n\u001b[0;32m      1\u001b[0m \u001b[38;5;28;01mdef\u001b[39;00m \u001b[38;5;21mdivide\u001b[39m(a,b):\n\u001b[1;32m----> 2\u001b[0m     \u001b[38;5;28;01massert\u001b[39;00m b\u001b[38;5;241m!=\u001b[39m\u001b[38;5;241m0\u001b[39m\n\u001b[0;32m      3\u001b[0m     \u001b[38;5;28;01mreturn\u001b[39;00m a\u001b[38;5;241m/\u001b[39mb\n",
      "\u001b[1;31mAssertionError\u001b[0m: "
     ]
    }
   ],
   "source": [
    "def divide(a,b):\n",
    "    assert b!=0\n",
    "    return a/b\n",
    "\n",
    "print(divide(10,0))"
   ]
  },
  {
   "cell_type": "code",
   "execution_count": 19,
   "id": "ba94dd1c",
   "metadata": {},
   "outputs": [
    {
     "name": "stdout",
     "output_type": "stream",
     "text": [
      "execution finish\n"
     ]
    }
   ],
   "source": [
    "try:\n",
    "    file=open(\"data.txt\",\"r\")\n",
    "    content=file.read()\n",
    "except FileNotFoundError:\n",
    "    print(\"file not founbt\")\n",
    "finally:\n",
    "    print(\"execution finish\")"
   ]
  },
  {
   "cell_type": "code",
   "execution_count": 20,
   "id": "c1fa682e",
   "metadata": {},
   "outputs": [
    {
     "name": "stdout",
     "output_type": "stream",
     "text": [
      "hfdksl;lsmknfnnfdnfn\n",
      "execution finish\n"
     ]
    }
   ],
   "source": [
    "try:\n",
    "    file=open(\"data.txt\",\"r\")\n",
    "    content=file.read()\n",
    "    print(content)\n",
    "except FileNotFoundError:\n",
    "    print(\"file not founbt\")\n",
    "finally:\n",
    "    print(\"execution finish\")"
   ]
  },
  {
   "cell_type": "code",
   "execution_count": 21,
   "id": "abe73627",
   "metadata": {},
   "outputs": [
    {
     "name": "stdout",
     "output_type": "stream",
     "text": [
      "hfdksl;lsmknfnnfdnfn\n",
      "execution finish\n",
      "closing file\n"
     ]
    }
   ],
   "source": [
    "try:\n",
    "    file=open(\"data.txt\",\"r\")\n",
    "    content=file.read()\n",
    "    print(content)\n",
    "except FileNotFoundError:\n",
    "    print(\"file not founbt\")\n",
    "finally:\n",
    "    print(\"execution finish\")\n",
    "    print(\"closing file\")\n",
    "    try:\n",
    "        file.close()\n",
    "    except NameError:\n",
    "        print(\"file was never opened\")"
   ]
  },
  {
   "cell_type": "code",
   "execution_count": 22,
   "id": "2cb3870c",
   "metadata": {},
   "outputs": [
    {
     "name": "stdout",
     "output_type": "stream",
     "text": [
      "file not founbt\n",
      "execution finish\n",
      "closing file\n"
     ]
    }
   ],
   "source": [
    "try:\n",
    "    file=open(\"abc.txt\",\"r\")\n",
    "    content=file.read()\n",
    "    print(content)\n",
    "except FileNotFoundError:\n",
    "    print(\"file not founbt\")\n",
    "finally:\n",
    "    print(\"execution finish\")\n",
    "    print(\"closing file\")\n",
    "    try:\n",
    "        file.close()\n",
    "    except NameError:\n",
    "        print(\"file was never opened\")"
   ]
  },
  {
   "cell_type": "code",
   "execution_count": null,
   "id": "b0a62553",
   "metadata": {},
   "outputs": [],
   "source": []
  }
 ],
 "metadata": {
  "kernelspec": {
   "display_name": "Python 3 (ipykernel)",
   "language": "python",
   "name": "python3"
  },
  "language_info": {
   "codemirror_mode": {
    "name": "ipython",
    "version": 3
   },
   "file_extension": ".py",
   "mimetype": "text/x-python",
   "name": "python",
   "nbconvert_exporter": "python",
   "pygments_lexer": "ipython3",
   "version": "3.10.9"
  }
 },
 "nbformat": 4,
 "nbformat_minor": 5
}
