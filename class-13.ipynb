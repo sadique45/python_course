{
 "cells": [
  {
   "cell_type": "code",
   "execution_count": 1,
   "id": "28430a38",
   "metadata": {},
   "outputs": [
    {
     "name": "stdout",
     "output_type": "stream",
     "text": [
      "      Name  Age     City\n",
      "0    Alice   25    Delhi\n",
      "1      Bob   30   Mumbai\n",
      "2  Charlie   35  Chennai\n",
      "3    David   40  Kolkata\n"
     ]
    }
   ],
   "source": [
    "import pandas as pd\n",
    "\n",
    "# Dictionary to DataFrame\n",
    "data = {\n",
    "    'Name': ['Alice', 'Bob', 'Charlie', 'David'],\n",
    "    'Age': [25, 30, 35, 40],\n",
    "    'City': ['Delhi', 'Mumbai', 'Chennai', 'Kolkata']\n",
    "}\n",
    "\n",
    "df = pd.DataFrame(data)\n",
    "print(df)"
   ]
  },
  {
   "cell_type": "code",
   "execution_count": 2,
   "id": "486dd1f0",
   "metadata": {},
   "outputs": [
    {
     "name": "stdout",
     "output_type": "stream",
     "text": [
      "      Name  Age     City  Score\n",
      "0    Alice   25    Delhi     85\n",
      "1      Bob   30   Mumbai     90\n",
      "2  Charlie   35  Chennai     88\n",
      "3    David   40  Kolkata     76\n",
      "4      Eva   22    Delhi     95\n"
     ]
    }
   ],
   "source": [
    "import pandas as pd\n",
    "\n",
    "# Load CSV file\n",
    "df = pd.read_csv(\"sample_students.csv\")\n",
    "\n",
    "# Show first few rows\n",
    "print(df.head())\n"
   ]
  },
  {
   "cell_type": "code",
   "execution_count": 3,
   "id": "cebd711e",
   "metadata": {},
   "outputs": [
    {
     "name": "stdout",
     "output_type": "stream",
     "text": [
      "<class 'pandas.core.frame.DataFrame'>\n",
      "RangeIndex: 8 entries, 0 to 7\n",
      "Data columns (total 4 columns):\n",
      " #   Column  Non-Null Count  Dtype \n",
      "---  ------  --------------  ----- \n",
      " 0   Name    8 non-null      object\n",
      " 1   Age     8 non-null      int64 \n",
      " 2   City    8 non-null      object\n",
      " 3   Score   8 non-null      int64 \n",
      "dtypes: int64(2), object(2)\n",
      "memory usage: 384.0+ bytes\n",
      "None\n",
      "             Age      Score\n",
      "count   8.000000   8.000000\n",
      "mean   32.125000  85.625000\n",
      "std     7.661359   8.467374\n",
      "min    22.000000  70.000000\n",
      "25%    27.250000  82.750000\n",
      "50%    31.000000  88.500000\n",
      "75%    36.250000  90.500000\n",
      "max    45.000000  95.000000\n",
      "(8, 4)\n"
     ]
    }
   ],
   "source": [
    "print(df.info())   # summary of dataset\n",
    "print(df.describe())  # statistics for numeric columns\n",
    "print(df.shape)   # rows, columns\n"
   ]
  },
  {
   "cell_type": "code",
   "execution_count": 4,
   "id": "67aa29c2",
   "metadata": {},
   "outputs": [
    {
     "name": "stdout",
     "output_type": "stream",
     "text": [
      "0      Alice\n",
      "1        Bob\n",
      "2    Charlie\n",
      "3      David\n",
      "4        Eva\n",
      "5      Frank\n",
      "6      Grace\n",
      "7     Hannah\n",
      "Name: Name, dtype: object\n",
      "      Name  Score\n",
      "0    Alice     85\n",
      "1      Bob     90\n",
      "2  Charlie     88\n",
      "3    David     76\n",
      "4      Eva     95\n",
      "5    Frank     89\n",
      "6    Grace     92\n",
      "7   Hannah     70\n",
      "Name     Alice\n",
      "Age         25\n",
      "City     Delhi\n",
      "Score       85\n",
      "Name: 0, dtype: object\n",
      "Name       David\n",
      "Age           40\n",
      "City     Kolkata\n",
      "Score         76\n",
      "Name: 3, dtype: object\n"
     ]
    }
   ],
   "source": [
    "print(df['Name'])               # Single column\n",
    "print(df[['Name', 'Score']])    # Multiple columns\n",
    "\n",
    "print(df.loc[0])    # Row by label\n",
    "print(df.iloc[3])   # Row by index\n"
   ]
  },
  {
   "cell_type": "code",
   "execution_count": 5,
   "id": "97a86c52",
   "metadata": {},
   "outputs": [
    {
     "name": "stdout",
     "output_type": "stream",
     "text": [
      "      Name  Age     City  Score\n",
      "2  Charlie   35  Chennai     88\n",
      "3    David   40  Kolkata     76\n",
      "6    Grace   32  Chennai     92\n",
      "7   Hannah   45  Kolkata     70\n",
      "    Name  Age    City  Score\n",
      "1    Bob   30  Mumbai     90\n",
      "5  Frank   28  Mumbai     89\n",
      "    Name  Age     City  Score\n",
      "1    Bob   30   Mumbai     90\n",
      "4    Eva   22    Delhi     95\n",
      "6  Grace   32  Chennai     92\n",
      "      Name  Age     City  Score\n",
      "2  Charlie   35  Chennai     88\n",
      "6    Grace   32  Chennai     92\n"
     ]
    }
   ],
   "source": [
    "# Students older than 30\n",
    "print(df[df['Age'] > 30])\n",
    "\n",
    "# Students from Mumbai\n",
    "print(df[df['City'] == 'Mumbai'])\n",
    "\n",
    "# Students with Score >= 90\n",
    "print(df[df['Score'] >= 90])\n",
    "\n",
    "# Multiple conditions (AND)\n",
    "print(df[(df['Age'] > 30) & (df['City'] == 'Chennai')])\n"
   ]
  },
  {
   "cell_type": "code",
   "execution_count": 6,
   "id": "d27ca47f",
   "metadata": {},
   "outputs": [
    {
     "name": "stdout",
     "output_type": "stream",
     "text": [
      "      Name  Age     City  Score\n",
      "4      Eva   22    Delhi     95\n",
      "0    Alice   25    Delhi     85\n",
      "5    Frank   28   Mumbai     89\n",
      "1      Bob   30   Mumbai     90\n",
      "6    Grace   32  Chennai     92\n",
      "2  Charlie   35  Chennai     88\n",
      "3    David   40  Kolkata     76\n",
      "7   Hannah   45  Kolkata     70\n",
      "      Name  Age     City  Score\n",
      "4      Eva   22    Delhi     95\n",
      "6    Grace   32  Chennai     92\n",
      "1      Bob   30   Mumbai     90\n",
      "5    Frank   28   Mumbai     89\n",
      "2  Charlie   35  Chennai     88\n",
      "0    Alice   25    Delhi     85\n",
      "3    David   40  Kolkata     76\n",
      "7   Hannah   45  Kolkata     70\n"
     ]
    }
   ],
   "source": [
    "# Sort by Age\n",
    "print(df.sort_values(by='Age'))\n",
    "\n",
    "# Sort by Score descending\n",
    "print(df.sort_values(by='Score', ascending=False))\n"
   ]
  },
  {
   "cell_type": "code",
   "execution_count": 7,
   "id": "5b17e58f",
   "metadata": {},
   "outputs": [
    {
     "name": "stdout",
     "output_type": "stream",
     "text": [
      "      Name  Age     City  Score Grade\n",
      "0    Alice   25    Delhi     85     B\n",
      "1      Bob   30   Mumbai     90     A\n",
      "2  Charlie   35  Chennai     88     A\n",
      "3    David   40  Kolkata     76     C\n",
      "4      Eva   22    Delhi     95    A+\n",
      "5    Frank   28   Mumbai     89     A\n",
      "6    Grace   32  Chennai     92     A\n",
      "7   Hannah   45  Kolkata     70     C\n",
      "      Name  Age     City  Score\n",
      "0    Alice   25    Delhi     85\n",
      "1      Bob   30   Mumbai     90\n",
      "2  Charlie   35  Chennai     88\n",
      "3    David   40  Kolkata     76\n",
      "4      Eva   22    Delhi     95\n",
      "5    Frank   28   Mumbai     89\n",
      "6    Grace   32  Chennai     92\n",
      "7   Hannah   45  Kolkata     70\n"
     ]
    }
   ],
   "source": [
    "# Add new column (Grade)\n",
    "df['Grade'] = ['B', 'A', 'A', 'C', 'A+', 'A', 'A', 'C']\n",
    "print(df)\n",
    "\n",
    "# Drop column\n",
    "df = df.drop(columns=['Grade'])\n",
    "print(df)\n"
   ]
  },
  {
   "cell_type": "code",
   "execution_count": 8,
   "id": "b480148b",
   "metadata": {},
   "outputs": [
    {
     "name": "stdout",
     "output_type": "stream",
     "text": [
      "City\n",
      "Chennai    90.0\n",
      "Delhi      90.0\n",
      "Kolkata    73.0\n",
      "Mumbai     89.5\n",
      "Name: Score, dtype: float64\n",
      "City\n",
      "Chennai    35\n",
      "Delhi      25\n",
      "Kolkata    45\n",
      "Mumbai     30\n",
      "Name: Age, dtype: int64\n"
     ]
    }
   ],
   "source": [
    "# Average score by city\n",
    "print(df.groupby('City')['Score'].mean())\n",
    "\n",
    "# Maximum age by city\n",
    "print(df.groupby('City')['Age'].max())\n"
   ]
  },
  {
   "cell_type": "code",
   "execution_count": 9,
   "id": "bb76e863",
   "metadata": {},
   "outputs": [
    {
     "name": "stdout",
     "output_type": "stream",
     "text": [
      "City\n",
      "Chennai    32\n",
      "Delhi      22\n",
      "Kolkata    40\n",
      "Mumbai     28\n",
      "Name: Age, dtype: int64\n"
     ]
    }
   ],
   "source": [
    "print(df.groupby('City')['Age'].min())"
   ]
  },
  {
   "cell_type": "code",
   "execution_count": 10,
   "id": "06c64eb5",
   "metadata": {},
   "outputs": [
    {
     "name": "stdout",
     "output_type": "stream",
     "text": [
      "    Name    Age   City  Score\n",
      "0  False  False  False  False\n",
      "1  False  False  False  False\n",
      "2  False  False  False  False\n",
      "3  False  False  False  False\n",
      "4  False  False  False  False\n",
      "5  False  False  False  False\n",
      "6  False  False  False  False\n",
      "7  False  False  False  False\n"
     ]
    }
   ],
   "source": [
    "print(df.isnull())"
   ]
  },
  {
   "cell_type": "code",
   "execution_count": 11,
   "id": "9144beb5",
   "metadata": {},
   "outputs": [],
   "source": [
    "df.loc[2,\"Score\"]=None"
   ]
  },
  {
   "cell_type": "code",
   "execution_count": 12,
   "id": "6f020c20",
   "metadata": {},
   "outputs": [
    {
     "name": "stdout",
     "output_type": "stream",
     "text": [
      "      Name  Age     City  Score\n",
      "0    Alice   25    Delhi   85.0\n",
      "1      Bob   30   Mumbai   90.0\n",
      "2  Charlie   35  Chennai    NaN\n",
      "3    David   40  Kolkata   76.0\n",
      "4      Eva   22    Delhi   95.0\n",
      "5    Frank   28   Mumbai   89.0\n",
      "6    Grace   32  Chennai   92.0\n",
      "7   Hannah   45  Kolkata   70.0\n"
     ]
    }
   ],
   "source": [
    "print(df)"
   ]
  },
  {
   "cell_type": "code",
   "execution_count": 13,
   "id": "d391494b",
   "metadata": {},
   "outputs": [
    {
     "name": "stdout",
     "output_type": "stream",
     "text": [
      "    Name    Age   City  Score\n",
      "0  False  False  False  False\n",
      "1  False  False  False  False\n",
      "2  False  False  False   True\n",
      "3  False  False  False  False\n",
      "4  False  False  False  False\n",
      "5  False  False  False  False\n",
      "6  False  False  False  False\n",
      "7  False  False  False  False\n"
     ]
    }
   ],
   "source": [
    "print(df.isnull())"
   ]
  },
  {
   "cell_type": "code",
   "execution_count": 14,
   "id": "eb1bf037",
   "metadata": {},
   "outputs": [],
   "source": [
    "df.loc[5,\"City\"]=None"
   ]
  },
  {
   "cell_type": "code",
   "execution_count": 15,
   "id": "98da5265",
   "metadata": {},
   "outputs": [
    {
     "name": "stdout",
     "output_type": "stream",
     "text": [
      "      Name  Age     City  Score\n",
      "0    Alice   25    Delhi   85.0\n",
      "1      Bob   30   Mumbai   90.0\n",
      "2  Charlie   35  Chennai    NaN\n",
      "3    David   40  Kolkata   76.0\n",
      "4      Eva   22    Delhi   95.0\n",
      "5    Frank   28     None   89.0\n",
      "6    Grace   32  Chennai   92.0\n",
      "7   Hannah   45  Kolkata   70.0\n"
     ]
    }
   ],
   "source": [
    "print(df)"
   ]
  },
  {
   "cell_type": "code",
   "execution_count": 16,
   "id": "31b0c4f8",
   "metadata": {},
   "outputs": [
    {
     "name": "stdout",
     "output_type": "stream",
     "text": [
      "    Name    Age   City  Score\n",
      "0  False  False  False  False\n",
      "1  False  False  False  False\n",
      "2  False  False  False   True\n",
      "3  False  False  False  False\n",
      "4  False  False  False  False\n",
      "5  False  False   True  False\n",
      "6  False  False  False  False\n",
      "7  False  False  False  False\n"
     ]
    }
   ],
   "source": [
    "print(df.isnull())"
   ]
  },
  {
   "cell_type": "code",
   "execution_count": 17,
   "id": "efd63c9a",
   "metadata": {},
   "outputs": [
    {
     "name": "stdout",
     "output_type": "stream",
     "text": [
      "Name     0\n",
      "Age      0\n",
      "City     1\n",
      "Score    1\n",
      "dtype: int64\n"
     ]
    }
   ],
   "source": [
    "print(df.isnull().sum())"
   ]
  },
  {
   "cell_type": "code",
   "execution_count": 18,
   "id": "ca44ba0b",
   "metadata": {},
   "outputs": [
    {
     "name": "stdout",
     "output_type": "stream",
     "text": [
      "2\n"
     ]
    }
   ],
   "source": [
    "print(df.isnull().sum().sum())"
   ]
  },
  {
   "cell_type": "code",
   "execution_count": 19,
   "id": "01057bd7",
   "metadata": {},
   "outputs": [
    {
     "name": "stdout",
     "output_type": "stream",
     "text": [
      "      Name  Age     City  Score\n",
      "2  Charlie   35  Chennai    NaN\n",
      "5    Frank   28     None   89.0\n"
     ]
    }
   ],
   "source": [
    "print(df[df.isnull().any(axis=1)])"
   ]
  },
  {
   "cell_type": "code",
   "execution_count": 20,
   "id": "fcd95d45",
   "metadata": {},
   "outputs": [],
   "source": [
    "f=df.fillna(0)\n"
   ]
  },
  {
   "cell_type": "code",
   "execution_count": 21,
   "id": "058b09ac",
   "metadata": {},
   "outputs": [
    {
     "name": "stdout",
     "output_type": "stream",
     "text": [
      "      Name  Age     City  Score\n",
      "0    Alice   25    Delhi   85.0\n",
      "1      Bob   30   Mumbai   90.0\n",
      "2  Charlie   35  Chennai    0.0\n",
      "3    David   40  Kolkata   76.0\n",
      "4      Eva   22    Delhi   95.0\n",
      "5    Frank   28        0   89.0\n",
      "6    Grace   32  Chennai   92.0\n",
      "7   Hannah   45  Kolkata   70.0\n"
     ]
    }
   ],
   "source": [
    "print(f)"
   ]
  },
  {
   "cell_type": "code",
   "execution_count": null,
   "id": "6e0711de",
   "metadata": {},
   "outputs": [],
   "source": []
  }
 ],
 "metadata": {
  "kernelspec": {
   "display_name": "Python 3 (ipykernel)",
   "language": "python",
   "name": "python3"
  },
  "language_info": {
   "codemirror_mode": {
    "name": "ipython",
    "version": 3
   },
   "file_extension": ".py",
   "mimetype": "text/x-python",
   "name": "python",
   "nbconvert_exporter": "python",
   "pygments_lexer": "ipython3",
   "version": "3.10.9"
  }
 },
 "nbformat": 4,
 "nbformat_minor": 5
}
