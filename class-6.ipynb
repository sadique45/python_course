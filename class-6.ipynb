{
 "cells": [
  {
   "cell_type": "code",
   "execution_count": 1,
   "id": "8a178051",
   "metadata": {},
   "outputs": [
    {
     "name": "stdout",
     "output_type": "stream",
     "text": [
      "{1, 2, 3, 4}\n"
     ]
    }
   ],
   "source": [
    "#sets\n",
    "n={1,2,3,1,2,4,3}\n",
    "print(n)"
   ]
  },
  {
   "cell_type": "code",
   "execution_count": 2,
   "id": "1202a48d",
   "metadata": {},
   "outputs": [
    {
     "name": "stdout",
     "output_type": "stream",
     "text": [
      "{'cherry', 'apple', 'banana'}\n"
     ]
    }
   ],
   "source": [
    "myset=set()\n",
    "m={\"apple\",\"banana\",\"cherry\"}\n",
    "print(m)"
   ]
  },
  {
   "cell_type": "code",
   "execution_count": 3,
   "id": "aa385856",
   "metadata": {},
   "outputs": [
    {
     "name": "stdout",
     "output_type": "stream",
     "text": [
      "cherry\n",
      "apple\n",
      "banana\n"
     ]
    }
   ],
   "source": [
    "for i in m:\n",
    "    print(i)"
   ]
  },
  {
   "cell_type": "code",
   "execution_count": 4,
   "id": "d1132159",
   "metadata": {},
   "outputs": [
    {
     "data": {
      "text/plain": [
       "{1, 2, 3, 4}"
      ]
     },
     "execution_count": 4,
     "metadata": {},
     "output_type": "execute_result"
    }
   ],
   "source": [
    "n"
   ]
  },
  {
   "cell_type": "code",
   "execution_count": 5,
   "id": "25f2b574",
   "metadata": {},
   "outputs": [],
   "source": [
    "n.add(5)"
   ]
  },
  {
   "cell_type": "code",
   "execution_count": 6,
   "id": "f06cf5cb",
   "metadata": {},
   "outputs": [
    {
     "data": {
      "text/plain": [
       "{1, 2, 3, 4, 5}"
      ]
     },
     "execution_count": 6,
     "metadata": {},
     "output_type": "execute_result"
    }
   ],
   "source": [
    "n"
   ]
  },
  {
   "cell_type": "code",
   "execution_count": 7,
   "id": "244d20c7",
   "metadata": {},
   "outputs": [],
   "source": [
    "n.update([7,8,9])"
   ]
  },
  {
   "cell_type": "code",
   "execution_count": 8,
   "id": "de8cef8c",
   "metadata": {},
   "outputs": [
    {
     "data": {
      "text/plain": [
       "{1, 2, 3, 4, 5, 7, 8, 9}"
      ]
     },
     "execution_count": 8,
     "metadata": {},
     "output_type": "execute_result"
    }
   ],
   "source": [
    "n"
   ]
  },
  {
   "cell_type": "code",
   "execution_count": 9,
   "id": "586fc38b",
   "metadata": {},
   "outputs": [],
   "source": [
    "n.remove(2)"
   ]
  },
  {
   "cell_type": "code",
   "execution_count": 10,
   "id": "9993ef56",
   "metadata": {},
   "outputs": [
    {
     "data": {
      "text/plain": [
       "{1, 3, 4, 5, 7, 8, 9}"
      ]
     },
     "execution_count": 10,
     "metadata": {},
     "output_type": "execute_result"
    }
   ],
   "source": [
    "n"
   ]
  },
  {
   "cell_type": "code",
   "execution_count": 11,
   "id": "6a361296",
   "metadata": {},
   "outputs": [],
   "source": [
    "n.discard(7)"
   ]
  },
  {
   "cell_type": "code",
   "execution_count": 12,
   "id": "8119c009",
   "metadata": {},
   "outputs": [
    {
     "data": {
      "text/plain": [
       "{1, 3, 4, 5, 8, 9}"
      ]
     },
     "execution_count": 12,
     "metadata": {},
     "output_type": "execute_result"
    }
   ],
   "source": [
    "n"
   ]
  },
  {
   "cell_type": "code",
   "execution_count": 13,
   "id": "0d057d13",
   "metadata": {},
   "outputs": [
    {
     "data": {
      "text/plain": [
       "1"
      ]
     },
     "execution_count": 13,
     "metadata": {},
     "output_type": "execute_result"
    }
   ],
   "source": [
    "n.pop()"
   ]
  },
  {
   "cell_type": "code",
   "execution_count": 14,
   "id": "8e6830f8",
   "metadata": {},
   "outputs": [
    {
     "data": {
      "text/plain": [
       "{3, 4, 5, 8, 9}"
      ]
     },
     "execution_count": 14,
     "metadata": {},
     "output_type": "execute_result"
    }
   ],
   "source": [
    "n"
   ]
  },
  {
   "cell_type": "code",
   "execution_count": 15,
   "id": "3a0572ea",
   "metadata": {},
   "outputs": [],
   "source": [
    "#n.clear() #empty set"
   ]
  },
  {
   "cell_type": "code",
   "execution_count": 16,
   "id": "f47ec5f1",
   "metadata": {},
   "outputs": [
    {
     "name": "stdout",
     "output_type": "stream",
     "text": [
      "{1, 2, 3, 4, 5, 6}\n"
     ]
    }
   ],
   "source": [
    "a={1,2,3,4}\n",
    "b={3,4,5,6}\n",
    "print(a|b)"
   ]
  },
  {
   "cell_type": "code",
   "execution_count": 17,
   "id": "57bad50e",
   "metadata": {},
   "outputs": [
    {
     "name": "stdout",
     "output_type": "stream",
     "text": [
      "{3, 4}\n"
     ]
    }
   ],
   "source": [
    "print(a&b)"
   ]
  },
  {
   "cell_type": "code",
   "execution_count": 18,
   "id": "698adf24",
   "metadata": {},
   "outputs": [
    {
     "name": "stdout",
     "output_type": "stream",
     "text": [
      "{1, 2, 5, 6}\n"
     ]
    }
   ],
   "source": [
    "print(a^b)"
   ]
  },
  {
   "cell_type": "code",
   "execution_count": 19,
   "id": "c95bad56",
   "metadata": {},
   "outputs": [
    {
     "data": {
      "text/plain": [
       "{3, 4, 5, 8, 9}"
      ]
     },
     "execution_count": 19,
     "metadata": {},
     "output_type": "execute_result"
    }
   ],
   "source": [
    "n\n"
   ]
  },
  {
   "cell_type": "code",
   "execution_count": 20,
   "id": "eed0314c",
   "metadata": {},
   "outputs": [
    {
     "name": "stdout",
     "output_type": "stream",
     "text": [
      "True\n"
     ]
    }
   ],
   "source": [
    "print(5 in n)"
   ]
  },
  {
   "cell_type": "code",
   "execution_count": 21,
   "id": "2aa5d901",
   "metadata": {},
   "outputs": [
    {
     "name": "stdout",
     "output_type": "stream",
     "text": [
      "False\n"
     ]
    }
   ],
   "source": [
    "print(11 in n)"
   ]
  },
  {
   "cell_type": "code",
   "execution_count": 22,
   "id": "6d08d2db",
   "metadata": {},
   "outputs": [
    {
     "name": "stdout",
     "output_type": "stream",
     "text": [
      "True\n"
     ]
    }
   ],
   "source": [
    "print(11 not in n)"
   ]
  },
  {
   "cell_type": "code",
   "execution_count": 23,
   "id": "5a319ef6",
   "metadata": {},
   "outputs": [
    {
     "name": "stdout",
     "output_type": "stream",
     "text": [
      "{'name': 'sadique', 'age': 24, 'marks': 45}\n"
     ]
    }
   ],
   "source": [
    "#dictionaries\n",
    "dt={}\n",
    "\n",
    "student={\n",
    "    \"name\":\"sadique\",\n",
    "    \"age\" :24,\n",
    "    \"marks\":45\n",
    "}\n",
    "\n",
    "print(student)"
   ]
  },
  {
   "cell_type": "code",
   "execution_count": 24,
   "id": "20210f34",
   "metadata": {},
   "outputs": [
    {
     "name": "stdout",
     "output_type": "stream",
     "text": [
      "sadique\n"
     ]
    }
   ],
   "source": [
    "print(student[\"name\"])"
   ]
  },
  {
   "cell_type": "code",
   "execution_count": 25,
   "id": "800e2f23",
   "metadata": {},
   "outputs": [
    {
     "name": "stdout",
     "output_type": "stream",
     "text": [
      "45\n"
     ]
    }
   ],
   "source": [
    "print(student.get(\"marks\"))"
   ]
  },
  {
   "cell_type": "code",
   "execution_count": 26,
   "id": "2a6da5df",
   "metadata": {},
   "outputs": [],
   "source": [
    "student[\"rollno\"]=23"
   ]
  },
  {
   "cell_type": "code",
   "execution_count": 27,
   "id": "5d0164ba",
   "metadata": {},
   "outputs": [
    {
     "name": "stdout",
     "output_type": "stream",
     "text": [
      "{'name': 'sadique', 'age': 24, 'marks': 45, 'rollno': 23}\n"
     ]
    }
   ],
   "source": [
    "print(student)"
   ]
  },
  {
   "cell_type": "code",
   "execution_count": 28,
   "id": "491db032",
   "metadata": {},
   "outputs": [
    {
     "data": {
      "text/plain": [
       "24"
      ]
     },
     "execution_count": 28,
     "metadata": {},
     "output_type": "execute_result"
    }
   ],
   "source": [
    "student.pop(\"age\")"
   ]
  },
  {
   "cell_type": "code",
   "execution_count": 29,
   "id": "1bc831a4",
   "metadata": {},
   "outputs": [
    {
     "data": {
      "text/plain": [
       "{'name': 'sadique', 'marks': 45, 'rollno': 23}"
      ]
     },
     "execution_count": 29,
     "metadata": {},
     "output_type": "execute_result"
    }
   ],
   "source": [
    "student"
   ]
  },
  {
   "cell_type": "code",
   "execution_count": 30,
   "id": "0b6e5719",
   "metadata": {},
   "outputs": [
    {
     "data": {
      "text/plain": [
       "('rollno', 23)"
      ]
     },
     "execution_count": 30,
     "metadata": {},
     "output_type": "execute_result"
    }
   ],
   "source": [
    "student.popitem()"
   ]
  },
  {
   "cell_type": "code",
   "execution_count": 31,
   "id": "e26e3275",
   "metadata": {},
   "outputs": [
    {
     "data": {
      "text/plain": [
       "{'name': 'sadique', 'marks': 45}"
      ]
     },
     "execution_count": 31,
     "metadata": {},
     "output_type": "execute_result"
    }
   ],
   "source": [
    "student"
   ]
  },
  {
   "cell_type": "code",
   "execution_count": 32,
   "id": "14656c52",
   "metadata": {},
   "outputs": [],
   "source": [
    "del student[\"name\"]"
   ]
  },
  {
   "cell_type": "code",
   "execution_count": 33,
   "id": "7a5c215b",
   "metadata": {},
   "outputs": [
    {
     "data": {
      "text/plain": [
       "{'marks': 45}"
      ]
     },
     "execution_count": 33,
     "metadata": {},
     "output_type": "execute_result"
    }
   ],
   "source": [
    "student"
   ]
  },
  {
   "cell_type": "code",
   "execution_count": 34,
   "id": "af78cf3f",
   "metadata": {},
   "outputs": [],
   "source": [
    "#student.clear()"
   ]
  },
  {
   "cell_type": "code",
   "execution_count": 35,
   "id": "cc9f8852",
   "metadata": {},
   "outputs": [
    {
     "name": "stdout",
     "output_type": "stream",
     "text": [
      "{'name': 'sadique', 'age': 24, 'marks': 45}\n"
     ]
    }
   ],
   "source": [
    "#dictionaries\n",
    "dt={}\n",
    "\n",
    "student={\n",
    "    \"name\":\"sadique\",\n",
    "    \"age\" :24,\n",
    "    \"marks\":45\n",
    "}\n",
    "\n",
    "print(student)"
   ]
  },
  {
   "cell_type": "code",
   "execution_count": 36,
   "id": "d91f3cf7",
   "metadata": {},
   "outputs": [
    {
     "name": "stdout",
     "output_type": "stream",
     "text": [
      "name\n",
      "age\n",
      "marks\n"
     ]
    }
   ],
   "source": [
    "for i in student:\n",
    "    print(i)"
   ]
  },
  {
   "cell_type": "code",
   "execution_count": 37,
   "id": "673e21e9",
   "metadata": {},
   "outputs": [
    {
     "name": "stdout",
     "output_type": "stream",
     "text": [
      "sadique\n",
      "24\n",
      "45\n"
     ]
    }
   ],
   "source": [
    "for i in student.values():\n",
    "    print(i)"
   ]
  },
  {
   "cell_type": "code",
   "execution_count": 41,
   "id": "0a2e1cd9",
   "metadata": {},
   "outputs": [
    {
     "name": "stdout",
     "output_type": "stream",
     "text": [
      "name : sadique\n",
      "age : 24\n",
      "marks : 45\n"
     ]
    }
   ],
   "source": [
    "for i,j in student.items():\n",
    "    print(i,\":\",j)"
   ]
  },
  {
   "cell_type": "code",
   "execution_count": 42,
   "id": "02fc0c7c",
   "metadata": {},
   "outputs": [
    {
     "name": "stdout",
     "output_type": "stream",
     "text": [
      "{1: 1, 2: 4, 3: 9, 4: 16, 5: 25}\n"
     ]
    }
   ],
   "source": [
    "sq={x:x*x for x in range(1,6)}\n",
    "print(sq)"
   ]
  },
  {
   "cell_type": "code",
   "execution_count": 43,
   "id": "74919e86",
   "metadata": {},
   "outputs": [
    {
     "name": "stdout",
     "output_type": "stream",
     "text": [
      "39\n"
     ]
    }
   ],
   "source": [
    "n=[4,5,6,7,9,8]\n",
    "\n",
    "s=0\n",
    "for i in n:\n",
    "    s=s+i\n",
    "print(s)"
   ]
  },
  {
   "cell_type": "code",
   "execution_count": 44,
   "id": "433665fe",
   "metadata": {},
   "outputs": [
    {
     "name": "stdout",
     "output_type": "stream",
     "text": [
      "3\n",
      "5\n",
      "6\n",
      "7\n",
      "5\n"
     ]
    }
   ],
   "source": [
    "a=[3,5,6,7,5]\n",
    "\n",
    "for i in a:\n",
    "    print(i)"
   ]
  },
  {
   "cell_type": "code",
   "execution_count": 45,
   "id": "cb45570d",
   "metadata": {},
   "outputs": [
    {
     "name": "stdout",
     "output_type": "stream",
     "text": [
      "3\n"
     ]
    }
   ],
   "source": [
    "#iter() and next()\n",
    "\n",
    "it=iter(a)\n",
    "print(next(it))\n"
   ]
  },
  {
   "cell_type": "code",
   "execution_count": 46,
   "id": "d5e70e8c",
   "metadata": {},
   "outputs": [
    {
     "name": "stdout",
     "output_type": "stream",
     "text": [
      "5\n"
     ]
    }
   ],
   "source": [
    "print(next(it))"
   ]
  },
  {
   "cell_type": "code",
   "execution_count": 47,
   "id": "fede50c2",
   "metadata": {},
   "outputs": [
    {
     "name": "stdout",
     "output_type": "stream",
     "text": [
      "6\n"
     ]
    }
   ],
   "source": [
    "print(next(it))"
   ]
  },
  {
   "cell_type": "code",
   "execution_count": 48,
   "id": "6b61f91f",
   "metadata": {},
   "outputs": [
    {
     "name": "stdout",
     "output_type": "stream",
     "text": [
      "helooworld\n"
     ]
    }
   ],
   "source": [
    "word=\"helooworld\"\n",
    "print(word)"
   ]
  },
  {
   "cell_type": "code",
   "execution_count": 49,
   "id": "f64c1b4f",
   "metadata": {},
   "outputs": [
    {
     "name": "stdout",
     "output_type": "stream",
     "text": [
      "h\n",
      "e\n",
      "l\n",
      "o\n",
      "o\n",
      "w\n",
      "o\n",
      "r\n",
      "l\n",
      "d\n"
     ]
    }
   ],
   "source": [
    "for i in word:\n",
    "    print(i)"
   ]
  },
  {
   "cell_type": "code",
   "execution_count": 50,
   "id": "8b93bc27",
   "metadata": {},
   "outputs": [
    {
     "name": "stdout",
     "output_type": "stream",
     "text": [
      "0 apple\n",
      "1 banana\n",
      "2 mango\n"
     ]
    }
   ],
   "source": [
    "#enuumerate()\n",
    "z=[\"apple\",\"banana\",\"mango\"]\n",
    "\n",
    "for i,j in enumerate(z):\n",
    "    print(i,j)"
   ]
  },
  {
   "cell_type": "code",
   "execution_count": 52,
   "id": "1683f759",
   "metadata": {},
   "outputs": [
    {
     "name": "stdout",
     "output_type": "stream",
     "text": [
      "1 apple\n",
      "2 banana\n",
      "3 mango\n"
     ]
    }
   ],
   "source": [
    "for i,j in enumerate(z,start=1):\n",
    "    print(i,j)"
   ]
  },
  {
   "cell_type": "code",
   "execution_count": 53,
   "id": "1ef31382",
   "metadata": {},
   "outputs": [
    {
     "name": "stdout",
     "output_type": "stream",
     "text": [
      "5 apple\n",
      "6 banana\n",
      "7 mango\n"
     ]
    }
   ],
   "source": [
    "for i,j in enumerate(z,start=5):\n",
    "    print(i,j)"
   ]
  },
  {
   "cell_type": "code",
   "execution_count": 54,
   "id": "cafdb2ea",
   "metadata": {},
   "outputs": [
    {
     "name": "stdout",
     "output_type": "stream",
     "text": [
      "[(0, 10), (1, 30), (2, 50)]\n"
     ]
    }
   ],
   "source": [
    "c=[10,30,50]\n",
    "print(list(enumerate(c)))"
   ]
  },
  {
   "cell_type": "code",
   "execution_count": 55,
   "id": "2b494e5c",
   "metadata": {},
   "outputs": [
    {
     "name": "stdout",
     "output_type": "stream",
     "text": [
      "0 h\n",
      "1 e\n",
      "2 l\n",
      "3 o\n",
      "4 o\n",
      "5 w\n",
      "6 o\n",
      "7 r\n",
      "8 l\n",
      "9 d\n"
     ]
    }
   ],
   "source": [
    "word=\"helooworld\"\n",
    "\n",
    "for i,j in enumerate(word):\n",
    "    print(i,j)"
   ]
  },
  {
   "cell_type": "code",
   "execution_count": 56,
   "id": "050dc00c",
   "metadata": {},
   "outputs": [
    {
     "name": "stdout",
     "output_type": "stream",
     "text": [
      "mango found at index 2\n"
     ]
    }
   ],
   "source": [
    "#enuumerate()\n",
    "z=[\"apple\",\"banana\",\"mango\"]\n",
    "\n",
    "for i,j in enumerate(z):\n",
    "    if j==\"mango\":\n",
    "        print(\"mango found at index\",i)"
   ]
  },
  {
   "cell_type": "code",
   "execution_count": 57,
   "id": "81b2f0e3",
   "metadata": {},
   "outputs": [],
   "source": [
    "#enuumerate()\n",
    "z=[\"apple\",\"banana\",\"mango\"]\n",
    "\n",
    "for i,j in enumerate(z):\n",
    "    if j==\"cherry\":\n",
    "        print(\"cherry found at index\",i)"
   ]
  },
  {
   "cell_type": "code",
   "execution_count": 58,
   "id": "024aedf0",
   "metadata": {},
   "outputs": [
    {
     "name": "stdout",
     "output_type": "stream",
     "text": [
      "[('a', 4), ('b', 7), ('c', 3)]\n"
     ]
    }
   ],
   "source": [
    "#zip\n",
    "n=[\"a\",\"b\",\"c\"]\n",
    "m=[4,7,3]\n",
    "z=zip(n,m)\n",
    "\n",
    "print(list(z))"
   ]
  },
  {
   "cell_type": "code",
   "execution_count": 59,
   "id": "c380d8a3",
   "metadata": {},
   "outputs": [
    {
     "name": "stdout",
     "output_type": "stream",
     "text": [
      "a 4\n",
      "b 7\n",
      "c 3\n"
     ]
    }
   ],
   "source": [
    "n=[\"a\",\"b\",\"c\"]\n",
    "m=[4,7,3]\n",
    "\n",
    "for i,j in zip(n,m):\n",
    "    print(i,j)"
   ]
  },
  {
   "cell_type": "code",
   "execution_count": 60,
   "id": "ed6c2c1a",
   "metadata": {},
   "outputs": [
    {
     "name": "stdout",
     "output_type": "stream",
     "text": [
      "[('a', 4), ('b', 7), ('c', 3)]\n"
     ]
    }
   ],
   "source": [
    "n=[\"a\",\"b\",\"c\"]\n",
    "m=[4,7,3]\n",
    "\n",
    "print(list(zip(n,m)))"
   ]
  },
  {
   "cell_type": "code",
   "execution_count": null,
   "id": "bc7055d5",
   "metadata": {},
   "outputs": [],
   "source": []
  }
 ],
 "metadata": {
  "kernelspec": {
   "display_name": "Python 3 (ipykernel)",
   "language": "python",
   "name": "python3"
  },
  "language_info": {
   "codemirror_mode": {
    "name": "ipython",
    "version": 3
   },
   "file_extension": ".py",
   "mimetype": "text/x-python",
   "name": "python",
   "nbconvert_exporter": "python",
   "pygments_lexer": "ipython3",
   "version": "3.10.9"
  }
 },
 "nbformat": 4,
 "nbformat_minor": 5
}
