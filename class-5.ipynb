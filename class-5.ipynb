{
 "cells": [
  {
   "cell_type": "code",
   "execution_count": 1,
   "id": "a79f87a8",
   "metadata": {},
   "outputs": [
    {
     "name": "stdout",
     "output_type": "stream",
     "text": [
      "[2, 4, 6, 7, 9]\n"
     ]
    }
   ],
   "source": [
    "a=[2,4,6,7,9]\n",
    "print(a)"
   ]
  },
  {
   "cell_type": "code",
   "execution_count": 2,
   "id": "8c886ffd",
   "metadata": {},
   "outputs": [
    {
     "name": "stdout",
     "output_type": "stream",
     "text": [
      "2\n"
     ]
    }
   ],
   "source": [
    "print(a[0])"
   ]
  },
  {
   "cell_type": "code",
   "execution_count": 3,
   "id": "ca1bcc10",
   "metadata": {},
   "outputs": [
    {
     "name": "stdout",
     "output_type": "stream",
     "text": [
      "7\n"
     ]
    }
   ],
   "source": [
    "print(a[3])"
   ]
  },
  {
   "cell_type": "code",
   "execution_count": 4,
   "id": "407c6a96",
   "metadata": {},
   "outputs": [
    {
     "name": "stdout",
     "output_type": "stream",
     "text": [
      "['red', 'green', 'blue']\n"
     ]
    }
   ],
   "source": [
    "color=[\"red\",\"green\",\"blue\"]\n",
    "print(color)"
   ]
  },
  {
   "cell_type": "code",
   "execution_count": 5,
   "id": "83e80431",
   "metadata": {},
   "outputs": [
    {
     "name": "stdout",
     "output_type": "stream",
     "text": [
      "green\n"
     ]
    }
   ],
   "source": [
    "print(color[1])"
   ]
  },
  {
   "cell_type": "code",
   "execution_count": 7,
   "id": "f52a24b8",
   "metadata": {},
   "outputs": [],
   "source": [
    "color[1]=\"yellow\""
   ]
  },
  {
   "cell_type": "code",
   "execution_count": 8,
   "id": "1f3d5a9f",
   "metadata": {},
   "outputs": [
    {
     "name": "stdout",
     "output_type": "stream",
     "text": [
      "['red', 'yellow', 'blue']\n"
     ]
    }
   ],
   "source": [
    "print(color)"
   ]
  },
  {
   "cell_type": "code",
   "execution_count": 9,
   "id": "29704378",
   "metadata": {},
   "outputs": [],
   "source": [
    "b=[2,4,\"green\",\"blue\"]"
   ]
  },
  {
   "cell_type": "code",
   "execution_count": 10,
   "id": "37737c2b",
   "metadata": {},
   "outputs": [
    {
     "name": "stdout",
     "output_type": "stream",
     "text": [
      "[2, 4, 'green', 'blue']\n"
     ]
    }
   ],
   "source": [
    "print(b)"
   ]
  },
  {
   "cell_type": "code",
   "execution_count": 11,
   "id": "c7865799",
   "metadata": {},
   "outputs": [
    {
     "name": "stdout",
     "output_type": "stream",
     "text": [
      "green\n"
     ]
    }
   ],
   "source": [
    "print(b[2])"
   ]
  },
  {
   "cell_type": "code",
   "execution_count": 12,
   "id": "902bf9a0",
   "metadata": {},
   "outputs": [
    {
     "ename": "IndexError",
     "evalue": "list assignment index out of range",
     "output_type": "error",
     "traceback": [
      "\u001b[1;31m---------------------------------------------------------------------------\u001b[0m",
      "\u001b[1;31mIndexError\u001b[0m                                Traceback (most recent call last)",
      "Cell \u001b[1;32mIn[12], line 1\u001b[0m\n\u001b[1;32m----> 1\u001b[0m b[\u001b[38;5;241m4\u001b[39m]\u001b[38;5;241m=\u001b[39m\u001b[38;5;241m3.14\u001b[39m\n",
      "\u001b[1;31mIndexError\u001b[0m: list assignment index out of range"
     ]
    }
   ],
   "source": [
    "b[4]=3.14"
   ]
  },
  {
   "cell_type": "code",
   "execution_count": 13,
   "id": "6f96b1fd",
   "metadata": {},
   "outputs": [
    {
     "data": {
      "text/plain": [
       "'blue'"
      ]
     },
     "execution_count": 13,
     "metadata": {},
     "output_type": "execute_result"
    }
   ],
   "source": [
    "b[-1]"
   ]
  },
  {
   "cell_type": "code",
   "execution_count": 14,
   "id": "d05a45d6",
   "metadata": {},
   "outputs": [],
   "source": [
    "b.append(3.14)"
   ]
  },
  {
   "cell_type": "code",
   "execution_count": 15,
   "id": "b8437b1d",
   "metadata": {},
   "outputs": [
    {
     "name": "stdout",
     "output_type": "stream",
     "text": [
      "[2, 4, 'green', 'blue', 3.14]\n"
     ]
    }
   ],
   "source": [
    "print(b)"
   ]
  },
  {
   "cell_type": "code",
   "execution_count": 16,
   "id": "5fb761f0",
   "metadata": {},
   "outputs": [
    {
     "name": "stdout",
     "output_type": "stream",
     "text": [
      "3.14\n"
     ]
    }
   ],
   "source": [
    "print(b[4])"
   ]
  },
  {
   "cell_type": "code",
   "execution_count": 17,
   "id": "25889f11",
   "metadata": {},
   "outputs": [],
   "source": [
    "b.append(\"yellow\")"
   ]
  },
  {
   "cell_type": "code",
   "execution_count": 18,
   "id": "068ae192",
   "metadata": {},
   "outputs": [
    {
     "name": "stdout",
     "output_type": "stream",
     "text": [
      "[2, 4, 'green', 'blue', 3.14, 'yellow']\n"
     ]
    }
   ],
   "source": [
    "print(b)"
   ]
  },
  {
   "cell_type": "code",
   "execution_count": 19,
   "id": "456e5efa",
   "metadata": {},
   "outputs": [],
   "source": [
    "b.remove(\"blue\")"
   ]
  },
  {
   "cell_type": "code",
   "execution_count": 20,
   "id": "2a50008c",
   "metadata": {},
   "outputs": [
    {
     "name": "stdout",
     "output_type": "stream",
     "text": [
      "[2, 4, 'green', 3.14, 'yellow']\n"
     ]
    }
   ],
   "source": [
    "print(b)"
   ]
  },
  {
   "cell_type": "code",
   "execution_count": 21,
   "id": "ba03652c",
   "metadata": {},
   "outputs": [],
   "source": [
    "b.insert(1,\"xyz\")"
   ]
  },
  {
   "cell_type": "code",
   "execution_count": 22,
   "id": "f3d47a52",
   "metadata": {},
   "outputs": [
    {
     "name": "stdout",
     "output_type": "stream",
     "text": [
      "[2, 'xyz', 4, 'green', 3.14, 'yellow']\n"
     ]
    }
   ],
   "source": [
    "print(b)"
   ]
  },
  {
   "cell_type": "code",
   "execution_count": 32,
   "id": "eb64409b",
   "metadata": {},
   "outputs": [
    {
     "name": "stdout",
     "output_type": "stream",
     "text": [
      "[1, 4, 6, 7, 8, 9, 5]\n"
     ]
    }
   ],
   "source": [
    "n=[1,4,6,7,8,9,5]\n",
    "print(n[0:8])"
   ]
  },
  {
   "cell_type": "code",
   "execution_count": 25,
   "id": "3a5a2b7a",
   "metadata": {},
   "outputs": [
    {
     "name": "stdout",
     "output_type": "stream",
     "text": [
      "[1, 4, 6, 7, 8, 9, 5, 1, 4, 6, 7, 8, 9, 5]\n"
     ]
    }
   ],
   "source": [
    "print(n*2)"
   ]
  },
  {
   "cell_type": "code",
   "execution_count": 26,
   "id": "2e961fbd",
   "metadata": {},
   "outputs": [
    {
     "name": "stdout",
     "output_type": "stream",
     "text": [
      "True\n"
     ]
    }
   ],
   "source": [
    "print(5 in n)"
   ]
  },
  {
   "cell_type": "code",
   "execution_count": 27,
   "id": "ad5b87c3",
   "metadata": {},
   "outputs": [
    {
     "name": "stdout",
     "output_type": "stream",
     "text": [
      "False\n"
     ]
    }
   ],
   "source": [
    "print(0 in n)"
   ]
  },
  {
   "cell_type": "code",
   "execution_count": 28,
   "id": "c3e2b8c1",
   "metadata": {},
   "outputs": [],
   "source": [
    "m=[1,4,6,7,8,9,5]\n",
    "m.sort()"
   ]
  },
  {
   "cell_type": "code",
   "execution_count": 29,
   "id": "16e2bf8d",
   "metadata": {},
   "outputs": [
    {
     "name": "stdout",
     "output_type": "stream",
     "text": [
      "[1, 4, 5, 6, 7, 8, 9]\n"
     ]
    }
   ],
   "source": [
    "print(m)"
   ]
  },
  {
   "cell_type": "code",
   "execution_count": 30,
   "id": "46ac38b3",
   "metadata": {},
   "outputs": [
    {
     "name": "stdout",
     "output_type": "stream",
     "text": [
      "[9, 8, 7, 6, 5, 4, 1]\n"
     ]
    }
   ],
   "source": [
    "m.reverse()\n",
    "print(m)"
   ]
  },
  {
   "cell_type": "code",
   "execution_count": 33,
   "id": "c650f07f",
   "metadata": {},
   "outputs": [
    {
     "name": "stdout",
     "output_type": "stream",
     "text": [
      "[9, 8, 7]\n"
     ]
    }
   ],
   "source": [
    "print(m[:3])"
   ]
  },
  {
   "cell_type": "code",
   "execution_count": 34,
   "id": "004d7326",
   "metadata": {},
   "outputs": [
    {
     "name": "stdout",
     "output_type": "stream",
     "text": [
      "[7, 6, 5, 4, 1]\n"
     ]
    }
   ],
   "source": [
    "print(m[2:])"
   ]
  },
  {
   "cell_type": "code",
   "execution_count": 35,
   "id": "ccd88467",
   "metadata": {},
   "outputs": [
    {
     "name": "stdout",
     "output_type": "stream",
     "text": [
      "[1, 4, 5, 6, 7, 8, 9]\n"
     ]
    }
   ],
   "source": [
    "print(m[::-1])"
   ]
  },
  {
   "cell_type": "code",
   "execution_count": 36,
   "id": "754bc40c",
   "metadata": {},
   "outputs": [
    {
     "name": "stdout",
     "output_type": "stream",
     "text": [
      "[2, 'xyz', 4, 'green', 3.14, 'yellow']\n"
     ]
    }
   ],
   "source": [
    "print(b)"
   ]
  },
  {
   "cell_type": "code",
   "execution_count": 37,
   "id": "5c7789aa",
   "metadata": {},
   "outputs": [
    {
     "name": "stdout",
     "output_type": "stream",
     "text": [
      "2\n",
      "xyz\n",
      "4\n",
      "green\n",
      "3.14\n",
      "yellow\n"
     ]
    }
   ],
   "source": [
    "for i in b:\n",
    "    print(i)"
   ]
  },
  {
   "cell_type": "code",
   "execution_count": 38,
   "id": "199ac94e",
   "metadata": {},
   "outputs": [
    {
     "name": "stdout",
     "output_type": "stream",
     "text": [
      "0 2\n",
      "1 xyz\n",
      "2 4\n",
      "3 green\n",
      "4 3.14\n",
      "5 yellow\n"
     ]
    }
   ],
   "source": [
    "for i in range(len(b)):\n",
    "    print(i,b[i])"
   ]
  },
  {
   "cell_type": "code",
   "execution_count": 39,
   "id": "2185c15b",
   "metadata": {},
   "outputs": [
    {
     "name": "stdout",
     "output_type": "stream",
     "text": [
      "(1, 2, 3, 4)\n"
     ]
    }
   ],
   "source": [
    "#tuple\n",
    "s=(1,2,3,4)\n",
    "print(s)"
   ]
  },
  {
   "cell_type": "code",
   "execution_count": 40,
   "id": "9c971f4b",
   "metadata": {},
   "outputs": [
    {
     "name": "stdout",
     "output_type": "stream",
     "text": [
      "2\n"
     ]
    }
   ],
   "source": [
    "print(s[1])"
   ]
  },
  {
   "cell_type": "code",
   "execution_count": 41,
   "id": "507de877",
   "metadata": {},
   "outputs": [
    {
     "name": "stdout",
     "output_type": "stream",
     "text": [
      "4\n"
     ]
    }
   ],
   "source": [
    "print(s[-1])"
   ]
  },
  {
   "cell_type": "code",
   "execution_count": 42,
   "id": "709d3e2d",
   "metadata": {},
   "outputs": [
    {
     "name": "stdout",
     "output_type": "stream",
     "text": [
      "('apple', 'banana', 'mango')\n"
     ]
    }
   ],
   "source": [
    "y=(\"apple\",\"banana\",\"mango\")\n",
    "print(y)"
   ]
  },
  {
   "cell_type": "code",
   "execution_count": 43,
   "id": "1c551331",
   "metadata": {},
   "outputs": [
    {
     "name": "stdout",
     "output_type": "stream",
     "text": [
      "(1, 2, 'apple', 'mango')\n"
     ]
    }
   ],
   "source": [
    "z=(1,2,\"apple\",\"mango\")\n",
    "print(z)"
   ]
  },
  {
   "cell_type": "code",
   "execution_count": 44,
   "id": "7b74046b",
   "metadata": {},
   "outputs": [
    {
     "name": "stdout",
     "output_type": "stream",
     "text": [
      "2\n"
     ]
    }
   ],
   "source": [
    "print(z.index(\"apple\"))"
   ]
  },
  {
   "cell_type": "code",
   "execution_count": 47,
   "id": "338367cc",
   "metadata": {},
   "outputs": [
    {
     "ename": "ValueError",
     "evalue": "tuple.index(x): x not in tuple",
     "output_type": "error",
     "traceback": [
      "\u001b[1;31m---------------------------------------------------------------------------\u001b[0m",
      "\u001b[1;31mValueError\u001b[0m                                Traceback (most recent call last)",
      "Cell \u001b[1;32mIn[47], line 1\u001b[0m\n\u001b[1;32m----> 1\u001b[0m \u001b[38;5;28mprint\u001b[39m(\u001b[43mz\u001b[49m\u001b[38;5;241;43m.\u001b[39;49m\u001b[43mindex\u001b[49m\u001b[43m(\u001b[49m\u001b[38;5;241;43m5\u001b[39;49m\u001b[43m)\u001b[49m)\n",
      "\u001b[1;31mValueError\u001b[0m: tuple.index(x): x not in tuple"
     ]
    }
   ],
   "source": [
    "print(z.index(5))"
   ]
  },
  {
   "cell_type": "code",
   "execution_count": 48,
   "id": "64a56899",
   "metadata": {},
   "outputs": [
    {
     "name": "stdout",
     "output_type": "stream",
     "text": [
      "1\n"
     ]
    }
   ],
   "source": [
    "print(z.count(2))"
   ]
  },
  {
   "cell_type": "code",
   "execution_count": 49,
   "id": "9efefb98",
   "metadata": {},
   "outputs": [
    {
     "name": "stdout",
     "output_type": "stream",
     "text": [
      "1\n",
      "2\n",
      "apple\n",
      "mango\n"
     ]
    }
   ],
   "source": [
    "for i in z:\n",
    "    print(i)"
   ]
  },
  {
   "cell_type": "code",
   "execution_count": 50,
   "id": "cd08a34d",
   "metadata": {},
   "outputs": [
    {
     "name": "stdout",
     "output_type": "stream",
     "text": [
      "(2, 'apple')\n"
     ]
    }
   ],
   "source": [
    "print(z[1:3]) "
   ]
  },
  {
   "cell_type": "code",
   "execution_count": 51,
   "id": "9770d5ae",
   "metadata": {},
   "outputs": [
    {
     "name": "stdout",
     "output_type": "stream",
     "text": [
      "('mango', 'apple', 2, 1)\n"
     ]
    }
   ],
   "source": [
    "print(z[::-1])"
   ]
  },
  {
   "cell_type": "code",
   "execution_count": 52,
   "id": "0a1a3264",
   "metadata": {},
   "outputs": [
    {
     "name": "stdout",
     "output_type": "stream",
     "text": [
      "(1, 2, 'apple', 'mango')\n"
     ]
    }
   ],
   "source": [
    "print(z[:4])"
   ]
  },
  {
   "cell_type": "code",
   "execution_count": 55,
   "id": "30e10882",
   "metadata": {},
   "outputs": [
    {
     "ename": "TypeError",
     "evalue": "'tuple' object does not support item assignment",
     "output_type": "error",
     "traceback": [
      "\u001b[1;31m---------------------------------------------------------------------------\u001b[0m",
      "\u001b[1;31mTypeError\u001b[0m                                 Traceback (most recent call last)",
      "Cell \u001b[1;32mIn[55], line 1\u001b[0m\n\u001b[1;32m----> 1\u001b[0m z[\u001b[38;5;241m1\u001b[39m]\u001b[38;5;241m=\u001b[39m\u001b[38;5;241m5\u001b[39m\n",
      "\u001b[1;31mTypeError\u001b[0m: 'tuple' object does not support item assignment"
     ]
    }
   ],
   "source": [
    "z[1]=5"
   ]
  },
  {
   "cell_type": "code",
   "execution_count": 53,
   "id": "9960b15c",
   "metadata": {},
   "outputs": [
    {
     "name": "stdout",
     "output_type": "stream",
     "text": [
      "x= 5\n",
      "y= 3\n"
     ]
    }
   ],
   "source": [
    "point=(5,3)\n",
    "x,y=point\n",
    "print(\"x=\",x)\n",
    "print(\"y=\",y)"
   ]
  },
  {
   "cell_type": "code",
   "execution_count": 57,
   "id": "a5c31487",
   "metadata": {},
   "outputs": [
    {
     "name": "stdout",
     "output_type": "stream",
     "text": [
      "[1, 8, 27, 64, 125, 216, 343, 512, 729]\n"
     ]
    }
   ],
   "source": [
    "square=[x*x*x for x in range(1,10)]\n",
    "print(square)"
   ]
  },
  {
   "cell_type": "code",
   "execution_count": null,
   "id": "b8087263",
   "metadata": {},
   "outputs": [],
   "source": []
  }
 ],
 "metadata": {
  "kernelspec": {
   "display_name": "Python 3 (ipykernel)",
   "language": "python",
   "name": "python3"
  },
  "language_info": {
   "codemirror_mode": {
    "name": "ipython",
    "version": 3
   },
   "file_extension": ".py",
   "mimetype": "text/x-python",
   "name": "python",
   "nbconvert_exporter": "python",
   "pygments_lexer": "ipython3",
   "version": "3.10.9"
  }
 },
 "nbformat": 4,
 "nbformat_minor": 5
}
