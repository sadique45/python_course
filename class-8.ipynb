{
 "cells": [
  {
   "cell_type": "code",
   "execution_count": 1,
   "id": "cd1db5a3",
   "metadata": {},
   "outputs": [],
   "source": [
    "def add(a,b):\n",
    "    return a+b\n",
    "\n",
    "\n",
    "add=lambda a,b:a+b"
   ]
  },
  {
   "cell_type": "code",
   "execution_count": 2,
   "id": "8fdc678c",
   "metadata": {},
   "outputs": [
    {
     "name": "stdout",
     "output_type": "stream",
     "text": [
      "<function <lambda> at 0x000001B0D209FBE0>\n"
     ]
    }
   ],
   "source": [
    "print(add)"
   ]
  },
  {
   "cell_type": "code",
   "execution_count": 3,
   "id": "b3d18f0d",
   "metadata": {},
   "outputs": [
    {
     "name": "stdout",
     "output_type": "stream",
     "text": [
      "9\n"
     ]
    }
   ],
   "source": [
    "print(add(4,5))"
   ]
  },
  {
   "cell_type": "code",
   "execution_count": 4,
   "id": "6592d772",
   "metadata": {},
   "outputs": [
    {
     "name": "stdout",
     "output_type": "stream",
     "text": [
      "49\n"
     ]
    }
   ],
   "source": [
    "sq=lambda x:x*x\n",
    "print(sq(7))"
   ]
  },
  {
   "cell_type": "code",
   "execution_count": 5,
   "id": "88889313",
   "metadata": {},
   "outputs": [
    {
     "name": "stdout",
     "output_type": "stream",
     "text": [
      "42\n"
     ]
    }
   ],
   "source": [
    "mul=lambda a,b:a*b\n",
    "print(mul(6,7))"
   ]
  },
  {
   "cell_type": "code",
   "execution_count": 6,
   "id": "543d0fb7",
   "metadata": {},
   "outputs": [
    {
     "name": "stdout",
     "output_type": "stream",
     "text": [
      "hello\n"
     ]
    }
   ],
   "source": [
    "h=lambda :\"hello\"\n",
    "print(h())"
   ]
  },
  {
   "cell_type": "code",
   "execution_count": 7,
   "id": "769d2ca7",
   "metadata": {},
   "outputs": [
    {
     "name": "stdout",
     "output_type": "stream",
     "text": [
      "25\n",
      "8\n"
     ]
    }
   ],
   "source": [
    "def power(n):\n",
    "    return lambda x:x**n\n",
    "\n",
    "sq=power(2)\n",
    "c=power(3)\n",
    "\n",
    "print(sq(5))\n",
    "print(c(2))\n"
   ]
  },
  {
   "cell_type": "code",
   "execution_count": 8,
   "id": "e2818fe9",
   "metadata": {},
   "outputs": [
    {
     "name": "stdout",
     "output_type": "stream",
     "text": [
      "25\n"
     ]
    }
   ],
   "source": [
    "#map\n",
    "\n",
    "def sq(x):\n",
    "    return x*x\n",
    "\n",
    "print(sq(5))"
   ]
  },
  {
   "cell_type": "code",
   "execution_count": 9,
   "id": "7ad39cb8",
   "metadata": {},
   "outputs": [
    {
     "name": "stdout",
     "output_type": "stream",
     "text": [
      "36\n"
     ]
    }
   ],
   "source": [
    "print(sq(6))"
   ]
  },
  {
   "cell_type": "code",
   "execution_count": 10,
   "id": "230bcdb5",
   "metadata": {},
   "outputs": [],
   "source": [
    "n=[2,4,5,7,8,9]\n",
    "r=map(sq,n)\n"
   ]
  },
  {
   "cell_type": "code",
   "execution_count": 11,
   "id": "99d201cb",
   "metadata": {},
   "outputs": [
    {
     "name": "stdout",
     "output_type": "stream",
     "text": [
      "[4, 16, 25, 49, 64, 81]\n"
     ]
    }
   ],
   "source": [
    "print(list(r))"
   ]
  },
  {
   "cell_type": "code",
   "execution_count": 13,
   "id": "dd228459",
   "metadata": {},
   "outputs": [
    {
     "name": "stdout",
     "output_type": "stream",
     "text": [
      "[4, 16, 25, 49, 64, 81]\n"
     ]
    }
   ],
   "source": [
    "n=[2,4,5,7,8,9]\n",
    "sq=list(map(lambda x:x**2,n))\n",
    "print(sq)"
   ]
  },
  {
   "cell_type": "code",
   "execution_count": 14,
   "id": "9eeea51c",
   "metadata": {},
   "outputs": [
    {
     "name": "stdout",
     "output_type": "stream",
     "text": [
      "['HE', 'HEL', 'HEELO']\n"
     ]
    }
   ],
   "source": [
    "w=[\"he\",\"hel\",\"heelo\"]\n",
    "uc=list(map(str.upper,w))\n",
    "print(uc)"
   ]
  },
  {
   "cell_type": "code",
   "execution_count": 15,
   "id": "6e73c898",
   "metadata": {},
   "outputs": [
    {
     "name": "stdout",
     "output_type": "stream",
     "text": [
      "[3, 2, 6, 5]\n"
     ]
    }
   ],
   "source": [
    "n=[\"3\",\"2\",\"6\",\"5\"]\n",
    "c=list(map(int,n))\n",
    "print(c)"
   ]
  },
  {
   "cell_type": "code",
   "execution_count": 17,
   "id": "a57a0ffe",
   "metadata": {},
   "outputs": [
    {
     "name": "stdout",
     "output_type": "stream",
     "text": [
      "[2, 4, 6, 8]\n"
     ]
    }
   ],
   "source": [
    "#filter\n",
    "n=[1,2,3,4,5,6,7,8,9]\n",
    "\n",
    "fil=list(filter(lambda x:x%2==0,n))\n",
    "\n",
    "print(fil)"
   ]
  },
  {
   "cell_type": "code",
   "execution_count": 19,
   "id": "7a1c4b3e",
   "metadata": {},
   "outputs": [
    {
     "name": "stdout",
     "output_type": "stream",
     "text": [
      "['dddd', 'kkk']\n"
     ]
    }
   ],
   "source": [
    "name=[\"dddd\",\"rr\",\"kkk\",\"r\",\"nn\"]\n",
    "\n",
    "x=list(filter(lambda x:len(x)>2,name))\n",
    "print(x)"
   ]
  },
  {
   "cell_type": "code",
   "execution_count": 24,
   "id": "95d246a5",
   "metadata": {},
   "outputs": [
    {
     "name": "stdout",
     "output_type": "stream",
     "text": [
      "['pfff', 'pyy']\n"
     ]
    }
   ],
   "source": [
    "word=[\"pfff\",\"jfff\",\"cp\",\"pyy\"]\n",
    "\n",
    "f=list(filter(lambda w:w.startswith(\"p\"),word))\n",
    "print(f)"
   ]
  },
  {
   "cell_type": "code",
   "execution_count": 26,
   "id": "a442b2e6",
   "metadata": {},
   "outputs": [
    {
     "name": "stdout",
     "output_type": "stream",
     "text": [
      "['pffp', 'jffj']\n"
     ]
    }
   ],
   "source": [
    "word=[\"pffp\",\"jffj\",\"cp\",\"pyy\"]\n",
    "\n",
    "f=list(filter(lambda w:w==w[::-1],word))\n",
    "print(f)"
   ]
  },
  {
   "cell_type": "code",
   "execution_count": 29,
   "id": "452ec88c",
   "metadata": {},
   "outputs": [
    {
     "name": "stdout",
     "output_type": "stream",
     "text": [
      "21\n"
     ]
    }
   ],
   "source": [
    "#reduce\n",
    "from functools import reduce\n",
    "n=[1,2,3,4,5,6]\n",
    "r=reduce(lambda x,y:x+y,n)\n",
    "print(r)"
   ]
  },
  {
   "cell_type": "code",
   "execution_count": 30,
   "id": "055af37a",
   "metadata": {},
   "outputs": [
    {
     "name": "stdout",
     "output_type": "stream",
     "text": [
      "21\n"
     ]
    }
   ],
   "source": [
    "n=[1,2,3,4,5,6]\n",
    "s=0\n",
    "for i in n:\n",
    "    s=s+i\n",
    "print(s)"
   ]
  },
  {
   "cell_type": "code",
   "execution_count": 31,
   "id": "2ebb880b",
   "metadata": {},
   "outputs": [
    {
     "name": "stdout",
     "output_type": "stream",
     "text": [
      "720\n"
     ]
    }
   ],
   "source": [
    "n=[1,2,3,4,5,6]\n",
    "r=reduce(lambda x,y:x*y,n)\n",
    "print(r)"
   ]
  },
  {
   "cell_type": "code",
   "execution_count": 32,
   "id": "d03c7919",
   "metadata": {},
   "outputs": [
    {
     "name": "stdout",
     "output_type": "stream",
     "text": [
      "6\n"
     ]
    }
   ],
   "source": [
    "n=[1,2,3,4,5,6]\n",
    "r=reduce(lambda x,y:x if x>y else y,n)\n",
    "print(r)"
   ]
  },
  {
   "cell_type": "code",
   "execution_count": 33,
   "id": "58300513",
   "metadata": {},
   "outputs": [
    {
     "name": "stdout",
     "output_type": "stream",
     "text": [
      "1\n"
     ]
    }
   ],
   "source": [
    "n=[1,2,3,4,5,6]\n",
    "r=reduce(lambda x,y:x if x<y else y,n)\n",
    "print(r)"
   ]
  },
  {
   "cell_type": "code",
   "execution_count": 34,
   "id": "f3e781a5",
   "metadata": {},
   "outputs": [
    {
     "name": "stdout",
     "output_type": "stream",
     "text": [
      "hell world hi\n"
     ]
    }
   ],
   "source": [
    "w=[\"hell\",\"world\",\"hi\"]\n",
    "s=reduce(lambda x,y:x+\" \"+y,w)\n",
    "print(s)"
   ]
  },
  {
   "cell_type": "code",
   "execution_count": null,
   "id": "f296a170",
   "metadata": {},
   "outputs": [],
   "source": []
  }
 ],
 "metadata": {
  "kernelspec": {
   "display_name": "Python 3 (ipykernel)",
   "language": "python",
   "name": "python3"
  },
  "language_info": {
   "codemirror_mode": {
    "name": "ipython",
    "version": 3
   },
   "file_extension": ".py",
   "mimetype": "text/x-python",
   "name": "python",
   "nbconvert_exporter": "python",
   "pygments_lexer": "ipython3",
   "version": "3.10.9"
  }
 },
 "nbformat": 4,
 "nbformat_minor": 5
}
