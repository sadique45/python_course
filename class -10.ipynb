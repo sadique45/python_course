{
 "cells": [
  {
   "cell_type": "code",
   "execution_count": 1,
   "id": "b0e18d2f",
   "metadata": {},
   "outputs": [
    {
     "name": "stdout",
     "output_type": "stream",
     "text": [
      "car brand: honda\n",
      "car model: xyz\n",
      "car brand: toyota\n",
      "car model: abc\n"
     ]
    }
   ],
   "source": [
    "class Car:\n",
    "    def __init__(self,brand,model):\n",
    "        self.brand=brand\n",
    "        self.model=model\n",
    "        \n",
    "    def display(self):\n",
    "        print(f\"car brand: {self.brand}\")\n",
    "        print(f\"car model: {self.model}\")\n",
    "        \n",
    "\n",
    "car1=Car(\"honda\",\"xyz\")\n",
    "car2=Car(\"toyota\",\"abc\")\n",
    "\n",
    "car1.display()\n",
    "car2.display()"
   ]
  },
  {
   "cell_type": "code",
   "execution_count": 2,
   "id": "98ef3b40",
   "metadata": {},
   "outputs": [
    {
     "name": "stdout",
     "output_type": "stream",
     "text": [
      "7\n",
      "35\n"
     ]
    }
   ],
   "source": [
    "class Cal:\n",
    "    def add(self,a,b):\n",
    "        return a+b\n",
    "    def mul(self,a,b):\n",
    "        return a*b\n",
    "    \n",
    "\n",
    "c=Cal()\n",
    "print(c.add(2,5))\n",
    "print(c.mul(5,7))"
   ]
  },
  {
   "cell_type": "code",
   "execution_count": 3,
   "id": "2a617095",
   "metadata": {},
   "outputs": [
    {
     "name": "stdout",
     "output_type": "stream",
     "text": [
      "hello abc, age is 23\n"
     ]
    }
   ],
   "source": [
    "class person:\n",
    "    def __init__(self,name,age):\n",
    "        self.name=name\n",
    "        self.age=age\n",
    "        \n",
    "    def greet(self):\n",
    "        print(f\"hello {self.name}, age is {self.age}\")\n",
    "        \n",
    "p=person(\"abc\",23)\n",
    "p.greet()"
   ]
  },
  {
   "cell_type": "code",
   "execution_count": 4,
   "id": "82a5f6c1",
   "metadata": {},
   "outputs": [
    {
     "name": "stdout",
     "output_type": "stream",
     "text": [
      "name: yyy,salary: 4000, company :abc\n",
      "name: zzzz,salary: 5000, company :abc\n"
     ]
    }
   ],
   "source": [
    "class Employee:\n",
    "    company=\"abc\"  #instance variable\n",
    "    \n",
    "    def __init__(self,name,salary):\n",
    "        self.name=name\n",
    "        self.salary=salary\n",
    "        \n",
    "    def show(self):\n",
    "        print(f\"name: {self.name},salary: {self.salary}, company :{Employee.company}\")\n",
    "        \n",
    "        \n",
    "        \n",
    "emp1=Employee(\"yyy\",4000)\n",
    "emp2=Employee(\"zzzz\",5000)\n",
    "\n",
    "emp1.show()\n",
    "emp2.show()\n"
   ]
  },
  {
   "cell_type": "code",
   "execution_count": 5,
   "id": "eb9939ce",
   "metadata": {},
   "outputs": [
    {
     "name": "stdout",
     "output_type": "stream",
     "text": [
      "Animal make sound\n"
     ]
    }
   ],
   "source": [
    "#inheritance\n",
    "\n",
    "class Animal:\n",
    "    def speak(self):\n",
    "        print(\"Animal make sound\")\n",
    "        \n",
    "class dog(Animal):\n",
    "    pass\n",
    "\n",
    "d=dog()\n",
    "d.speak()"
   ]
  },
  {
   "cell_type": "code",
   "execution_count": 6,
   "id": "6582bbf4",
   "metadata": {},
   "outputs": [
    {
     "name": "stdout",
     "output_type": "stream",
     "text": [
      "Animal make sound\n",
      "Animal make sound\n"
     ]
    }
   ],
   "source": [
    "class Animal:\n",
    "    def speak(self):\n",
    "        print(\"Animal make sound\")\n",
    "        \n",
    "class dog(Animal):\n",
    "    pass\n",
    "\n",
    "class cat(Animal):\n",
    "    pass\n",
    "\n",
    "d=dog()\n",
    "d.speak()\n",
    "\n",
    "c=cat()\n",
    "c.speak()"
   ]
  },
  {
   "cell_type": "code",
   "execution_count": 7,
   "id": "16915fac",
   "metadata": {},
   "outputs": [
    {
     "name": "stdout",
     "output_type": "stream",
     "text": [
      "bark\n"
     ]
    }
   ],
   "source": [
    "#method overrriding\n",
    "class Animal:\n",
    "    def speak(self):\n",
    "        print(\"Animal make sound\")\n",
    "        \n",
    "class dog(Animal):\n",
    "    def speak(self):\n",
    "        print(\"bark\")\n",
    "\n",
    "d=dog()\n",
    "d.speak()"
   ]
  },
  {
   "cell_type": "code",
   "execution_count": 8,
   "id": "fe799731",
   "metadata": {},
   "outputs": [
    {
     "name": "stdout",
     "output_type": "stream",
     "text": [
      "Animal make sound\n",
      "bark\n"
     ]
    }
   ],
   "source": [
    "#method overrriding\n",
    "class Animal:\n",
    "    def speak(self):\n",
    "        print(\"Animal make sound\")\n",
    "        \n",
    "class dog(Animal):\n",
    "    def speak(self):\n",
    "        print(\"bark\")\n",
    "\n",
    "a=Animal()\n",
    "d=dog()\n",
    "\n",
    "a.speak()\n",
    "d.speak()"
   ]
  },
  {
   "cell_type": "code",
   "execution_count": 12,
   "id": "a2032a24",
   "metadata": {},
   "outputs": [
    {
     "name": "stdout",
     "output_type": "stream",
     "text": [
      "Animal make sound\n",
      "bark\n"
     ]
    }
   ],
   "source": [
    "#super keyword\n",
    "class Animal:\n",
    "    def speak(self):\n",
    "        print(\"Animal make sound\")\n",
    "        \n",
    "class dog(Animal):\n",
    "    def speak(self):\n",
    "        super().speak()\n",
    "        print(\"bark\")\n",
    "\n",
    " \n",
    "d=dog()\n",
    "d.speak()"
   ]
  },
  {
   "cell_type": "code",
   "execution_count": null,
   "id": "e588178e",
   "metadata": {},
   "outputs": [],
   "source": []
  }
 ],
 "metadata": {
  "kernelspec": {
   "display_name": "Python 3 (ipykernel)",
   "language": "python",
   "name": "python3"
  },
  "language_info": {
   "codemirror_mode": {
    "name": "ipython",
    "version": 3
   },
   "file_extension": ".py",
   "mimetype": "text/x-python",
   "name": "python",
   "nbconvert_exporter": "python",
   "pygments_lexer": "ipython3",
   "version": "3.10.9"
  }
 },
 "nbformat": 4,
 "nbformat_minor": 5
}
