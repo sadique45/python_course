{
 "cells": [
  {
   "cell_type": "code",
   "execution_count": 11,
   "id": "582b7301",
   "metadata": {},
   "outputs": [
    {
     "name": "stdout",
     "output_type": "stream",
     "text": [
      "Abc\n",
      "20\n"
     ]
    }
   ],
   "source": [
    "#public\n",
    "class Student:\n",
    "    def __init__(self, name, age):\n",
    "        self.name = name   # Public\n",
    "        self.age = age     # Public\n",
    "\n",
    "s1 = Student(\"Abc\", 20)\n",
    "print(s1.name)  # Abc\n",
    "print(s1.age)   # 20\n"
   ]
  },
  {
   "cell_type": "code",
   "execution_count": 12,
   "id": "9049a5c0",
   "metadata": {},
   "outputs": [
    {
     "name": "stdout",
     "output_type": "stream",
     "text": [
      "abc\n"
     ]
    }
   ],
   "source": [
    "class Student:\n",
    "    def __init__(self, name, age):\n",
    "        self._name = name    # Protected\n",
    "        self._age = age\n",
    "\n",
    "s1 = Student(\"abc\", 22)\n",
    "print(s1._name)   # abc (still accessible, but discouraged outside class)\n"
   ]
  },
  {
   "cell_type": "code",
   "execution_count": 17,
   "id": "26d2a362",
   "metadata": {},
   "outputs": [
    {
     "name": "stdout",
     "output_type": "stream",
     "text": [
      "1000\n",
      "Deposited: 500\n",
      "1500\n"
     ]
    },
    {
     "ename": "AttributeError",
     "evalue": "'BankAccount' object has no attribute '__balance'",
     "output_type": "error",
     "traceback": [
      "\u001b[1;31m---------------------------------------------------------------------------\u001b[0m",
      "\u001b[1;31mAttributeError\u001b[0m                            Traceback (most recent call last)",
      "Cell \u001b[1;32mIn[17], line 20\u001b[0m\n\u001b[0;32m     17\u001b[0m account\u001b[38;5;241m.\u001b[39mdeposit(\u001b[38;5;241m500\u001b[39m)           \u001b[38;5;66;03m# Deposited: 500\u001b[39;00m\n\u001b[0;32m     18\u001b[0m \u001b[38;5;28mprint\u001b[39m(account\u001b[38;5;241m.\u001b[39mget_balance())\n\u001b[1;32m---> 20\u001b[0m \u001b[38;5;28mprint\u001b[39m(\u001b[43maccount\u001b[49m\u001b[38;5;241;43m.\u001b[39;49m\u001b[43m__balance\u001b[49m)\n",
      "\u001b[1;31mAttributeError\u001b[0m: 'BankAccount' object has no attribute '__balance'"
     ]
    }
   ],
   "source": [
    "class BankAccount:\n",
    "    def __init__(self, balance):\n",
    "        self.__balance = balance   # Private\n",
    "\n",
    "    def get_balance(self):    # Getter\n",
    "        return self.__balance\n",
    "\n",
    "    def deposit(self, amount):  # Setter\n",
    "        if amount > 0:\n",
    "            self.__balance += amount\n",
    "            print(\"Deposited:\", amount)\n",
    "        else:\n",
    "            print(\"Invalid deposit\")\n",
    "\n",
    "account = BankAccount(1000)\n",
    "print(account.get_balance())   #  Access through method → 1000\n",
    "account.deposit(500)           # Deposited: 500\n",
    "print(account.get_balance())\n",
    "\n",
    "print(account.__balance)       #  Error: AttributeError\n"
   ]
  },
  {
   "cell_type": "code",
   "execution_count": 6,
   "id": "f4965668",
   "metadata": {},
   "outputs": [
    {
     "name": "stdout",
     "output_type": "stream",
     "text": [
      "Car engine started\n",
      "Bike engine started\n"
     ]
    }
   ],
   "source": [
    "from abc import ABC, abstractmethod\n",
    "\n",
    "# Abstract Class\n",
    "class Vehicle(ABC):\n",
    "    @abstractmethod\n",
    "    def start(self):\n",
    "        pass   # Abstract method\n",
    "\n",
    "    @abstractmethod\n",
    "    def stop(self):\n",
    "        pass\n",
    "\n",
    "# Child Class 1\n",
    "class Car(Vehicle):\n",
    "    def start(self):\n",
    "        print(\"Car engine started\")\n",
    "\n",
    "    def stop(self):\n",
    "        print(\"Car stopped\")\n",
    "\n",
    "# Child Class 2\n",
    "class Bike(Vehicle):\n",
    "    def start(self):\n",
    "        print(\"Bike engine started\")\n",
    "\n",
    "    def stop(self):\n",
    "        print(\"Bike stopped\")\n",
    "\n",
    "# car = Vehicle() ❌ Error: Can't instantiate abstract class\n",
    "car = Car()\n",
    "bike = Bike()\n",
    "\n",
    "car.start()  # Car engine started\n",
    "bike.start() # Bike engine started\n"
   ]
  },
  {
   "cell_type": "code",
   "execution_count": 7,
   "id": "1aa7495e",
   "metadata": {},
   "outputs": [
    {
     "name": "stdout",
     "output_type": "stream",
     "text": [
      "Woof!\n",
      "Meow!\n"
     ]
    }
   ],
   "source": [
    "#polymorphism\n",
    "class Dog:\n",
    "    def speak(self):\n",
    "        return \"Woof!\"\n",
    "\n",
    "class Cat:\n",
    "    def speak(self):\n",
    "        return \"Meow!\"\n",
    "\n",
    "def make_sound(animal):\n",
    "    print(animal.speak())\n",
    "\n",
    "dog = Dog()\n",
    "cat = Cat()\n",
    "\n",
    "make_sound(dog)  # Woof!\n",
    "make_sound(cat)  # Meow!\n"
   ]
  },
  {
   "cell_type": "code",
   "execution_count": 8,
   "id": "7b7a310b",
   "metadata": {},
   "outputs": [
    {
     "name": "stdout",
     "output_type": "stream",
     "text": [
      "5\n",
      "15\n",
      "35\n"
     ]
    }
   ],
   "source": [
    "#method overloading\n",
    "class Math:\n",
    "    def add(self, a, b=0, c=0):\n",
    "        return a + b + c\n",
    "\n",
    "m = Math()\n",
    "print(m.add(5))       # 5\n",
    "print(m.add(5, 10))   # 15\n",
    "print(m.add(5, 10, 20))  # 35\n"
   ]
  },
  {
   "cell_type": "code",
   "execution_count": 9,
   "id": "bd413848",
   "metadata": {},
   "outputs": [
    {
     "name": "stdout",
     "output_type": "stream",
     "text": [
      "Car engine started\n"
     ]
    }
   ],
   "source": [
    "#method overring\n",
    "class Vehicle:\n",
    "    def start(self):\n",
    "        print(\"Vehicle starting...\")\n",
    "\n",
    "class Car(Vehicle):\n",
    "    def start(self):   # Overriding parent method\n",
    "        print(\"Car engine started\")\n",
    "\n",
    "car = Car()\n",
    "car.start()   # Car engine started\n"
   ]
  },
  {
   "cell_type": "code",
   "execution_count": null,
   "id": "6f8f2985",
   "metadata": {},
   "outputs": [],
   "source": []
  }
 ],
 "metadata": {
  "kernelspec": {
   "display_name": "Python 3 (ipykernel)",
   "language": "python",
   "name": "python3"
  },
  "language_info": {
   "codemirror_mode": {
    "name": "ipython",
    "version": 3
   },
   "file_extension": ".py",
   "mimetype": "text/x-python",
   "name": "python",
   "nbconvert_exporter": "python",
   "pygments_lexer": "ipython3",
   "version": "3.10.9"
  }
 },
 "nbformat": 4,
 "nbformat_minor": 5
}
